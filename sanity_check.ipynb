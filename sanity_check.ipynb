{
 "cells": [
  {
   "cell_type": "code",
   "execution_count": 1,
   "id": "b1a6c607-27d3-4665-a87a-7a754698bf41",
   "metadata": {},
   "outputs": [],
   "source": [
    "import os\n",
    "import pyarrow.parquet as pq\n",
    "import pandas as pd\n",
    "import matplotlib.pyplot as plt\n",
    "\n",
    "from sanity_check_utlities import SanityCheck"
   ]
  },
  {
   "cell_type": "code",
   "execution_count": 2,
   "id": "f09d78da-11c8-4572-a241-fd374b95ff52",
   "metadata": {},
   "outputs": [
    {
     "name": "stdout",
     "output_type": "stream",
     "text": [
      "Reading file /home/maximilian/Downloads/parquet/10-70-70-3_55500_20231118_190806.parquet\n",
      "16337 outliers detected (0.73%)\n",
      "All files done!\n"
     ]
    }
   ],
   "source": [
    "rootdir = '/home/maximilian/Downloads/parquet/'\n",
    "extensions = ('.parquet')\n",
    "\n",
    "for subdir, dirs, files in os.walk(rootdir):\n",
    "    for file in files:\n",
    "        ext = os.path.splitext(file)[-1].lower()\n",
    "        if ext in extensions:\n",
    "            sc = SanityCheck(subdir, file)\n",
    "            outliers_num, outliers_percent = sc.find_outliers(window=50, std_factor=3)\n",
    "            print(str(outliers_num) + \" outliers detected (\" + outliers_percent + \")\")\n",
    "            sc.save_outlier_file()\n",
    "            del sc\n",
    "print(\"All files done!\")"
   ]
  },
  {
   "cell_type": "code",
   "execution_count": null,
   "id": "7f21383a-33e4-41b1-8247-3e883f9caef4",
   "metadata": {},
   "outputs": [],
   "source": []
  }
 ],
 "metadata": {
  "kernelspec": {
   "display_name": "Python 3 (ipykernel)",
   "language": "python",
   "name": "python3"
  },
  "language_info": {
   "codemirror_mode": {
    "name": "ipython",
    "version": 3
   },
   "file_extension": ".py",
   "mimetype": "text/x-python",
   "name": "python",
   "nbconvert_exporter": "python",
   "pygments_lexer": "ipython3",
   "version": "3.10.12"
  }
 },
 "nbformat": 4,
 "nbformat_minor": 5
}
